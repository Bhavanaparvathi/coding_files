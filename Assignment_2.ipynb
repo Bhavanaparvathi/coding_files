{
 "cells": [
  {
   "cell_type": "markdown",
   "id": "bd39743b",
   "metadata": {},
   "source": [
    "#### 1. Write a program to accept two numbers from the user and calculate multiplication and division"
   ]
  },
  {
   "cell_type": "code",
   "execution_count": 1,
   "id": "e52e7955",
   "metadata": {},
   "outputs": [
    {
     "name": "stdout",
     "output_type": "stream",
     "text": [
      "Enter a number : 89565\n",
      "Enter a number : 56956\n",
      "Multiplication :  5101264140\n",
      "Division :  1.57252967202753\n"
     ]
    }
   ],
   "source": [
    "a = int(input(\"Enter a number : \"))\n",
    "b = int(input(\"Enter a number : \"))\n",
    "print(\"Multiplication : \", a*b)\n",
    "print(\"Division : \", a/b)"
   ]
  },
  {
   "cell_type": "markdown",
   "id": "4e6b4401",
   "metadata": {},
   "source": [
    "#### 2. Write a program to print the characters from a string that are present at an odd index"
   ]
  },
  {
   "cell_type": "code",
   "execution_count": 2,
   "id": "43954358",
   "metadata": {},
   "outputs": [
    {
     "data": {
      "text/plain": [
       "'yhni  ihlvl eea-ups rgamn agae'"
      ]
     },
     "execution_count": 2,
     "metadata": {},
     "output_type": "execute_result"
    }
   ],
   "source": [
    "str1 = \"Python is a high-level, general-purpose programming language.\"\n",
    "str1[1::2]"
   ]
  },
  {
   "cell_type": "markdown",
   "id": "c289fc13",
   "metadata": {},
   "source": [
    "#### 3. Write a program to print the characters from a string that are present at an Even index¶"
   ]
  },
  {
   "cell_type": "code",
   "execution_count": 3,
   "id": "515d4ba4",
   "metadata": {},
   "outputs": [
    {
     "data": {
      "text/plain": [
       "'Pto sahg-ee,gnrlproepormiglnug.'"
      ]
     },
     "execution_count": 3,
     "metadata": {},
     "output_type": "execute_result"
    }
   ],
   "source": [
    "str1 = \"Python is a high-level, general-purpose programming language.\"\n",
    "str1[::2]"
   ]
  },
  {
   "cell_type": "markdown",
   "id": "f3f2fea3",
   "metadata": {},
   "source": [
    "#### 4. Write a program which will print the sum of two numbers if they are even or it will print the difference of the two numbers"
   ]
  },
  {
   "cell_type": "code",
   "execution_count": 12,
   "id": "97ae0558",
   "metadata": {},
   "outputs": [
    {
     "name": "stdout",
     "output_type": "stream",
     "text": [
      "Enter a number : 5461565\n",
      "Enter a number : 6546435\n",
      "The sum of two numbers is even :  12008000\n"
     ]
    }
   ],
   "source": [
    "a = int(input(\"Enter a number : \"))\n",
    "b = int(input(\"Enter a number : \"))\n",
    "if (a+b) %2 == 0 :\n",
    "    print(\"The sum of two numbers is even : \", a+b)\n",
    "else:\n",
    "    print(\"The sum of two mubers is not even. The difference between the numbers : \", a-b)"
   ]
  },
  {
   "cell_type": "code",
   "execution_count": 13,
   "id": "3c837f2b",
   "metadata": {},
   "outputs": [
    {
     "name": "stdout",
     "output_type": "stream",
     "text": [
      "Enter a number : 3333\n",
      "Enter a number : 66666\n",
      "The sum of two mubers is not even. The difference between the numbers :  -63333\n"
     ]
    }
   ],
   "source": [
    "a = int(input(\"Enter a number : \"))\n",
    "b = int(input(\"Enter a number : \"))\n",
    "if (a+b) %2 == 0 :\n",
    "    print(\"The sum of two numbers is even : \", a+b)\n",
    "else:\n",
    "    print(\"The sum of two mubers is not even. The difference between the numbers : \", a-b)"
   ]
  },
  {
   "cell_type": "markdown",
   "id": "204f7d3d",
   "metadata": {},
   "source": [
    "#### 5. Write a program to convert all even indexed alphabets into upper and odd"
   ]
  },
  {
   "cell_type": "code",
   "execution_count": 18,
   "id": "8fba1d70",
   "metadata": {},
   "outputs": [
    {
     "name": "stdout",
     "output_type": "stream",
     "text": [
      "PyThOn iS A InTeRpReTeD LaNgUaGe\n"
     ]
    }
   ],
   "source": [
    "x = \"python is a interpreted language\"\n",
    "x1 = \"\"\n",
    "for index, i in enumerate(x):\n",
    "    if index %2==0:\n",
    "        x1 += i.upper()                         #to upper\n",
    "    else:\n",
    "        x1 += i\n",
    "print(x1)"
   ]
  },
  {
   "cell_type": "code",
   "execution_count": 21,
   "id": "cecdb970",
   "metadata": {},
   "outputs": [
    {
     "name": "stdout",
     "output_type": "stream",
     "text": [
      "pYtHoN Is a iNtErPrEtEd lAnGuAgE\n"
     ]
    }
   ],
   "source": [
    "x = \"PYTHON IS A INTERPRETED LANGUAGE\"\n",
    "x1 = \"\"\n",
    "for index, i in enumerate(x):\n",
    "    if index %2==0:\n",
    "        x1 += i.lower()                         #to LOWER\n",
    "    else:\n",
    "        x1 += i\n",
    "print(x1)"
   ]
  },
  {
   "cell_type": "markdown",
   "id": "ffea9f6c",
   "metadata": {},
   "source": [
    "#### 6. Write a program which will print True if the input number is divisible by 5 or else False"
   ]
  },
  {
   "cell_type": "code",
   "execution_count": 26,
   "id": "1d97f43d",
   "metadata": {},
   "outputs": [
    {
     "name": "stdout",
     "output_type": "stream",
     "text": [
      "Enter a number : 549164985\n",
      "True\n"
     ]
    }
   ],
   "source": [
    "y = int(input(\"Enter a number : \"))\n",
    "if y %5 == 0:\n",
    "    print(True)\n",
    "else:\n",
    "    print(False)"
   ]
  },
  {
   "cell_type": "markdown",
   "id": "d5ad0ece",
   "metadata": {},
   "source": [
    "#### 7. Given two integer numbers return their product only if the product greater than 1000, else return their sum"
   ]
  },
  {
   "cell_type": "code",
   "execution_count": 28,
   "id": "3a2a72e4",
   "metadata": {},
   "outputs": [
    {
     "name": "stdout",
     "output_type": "stream",
     "text": [
      "Enter a number : 50\n",
      "Enter a number : 50\n",
      "The product of the values :  2500\n"
     ]
    }
   ],
   "source": [
    "a = int(input(\"Enter a number : \"))\n",
    "b = int(input(\"Enter a number : \"))\n",
    "if a*b > 1000:\n",
    "    print(\"The product of the values : \", a*b)\n",
    "else:\n",
    "    print(\"The sum of values : \", a+b)"
   ]
  },
  {
   "cell_type": "code",
   "execution_count": 29,
   "id": "9a6ef4aa",
   "metadata": {},
   "outputs": [
    {
     "name": "stdout",
     "output_type": "stream",
     "text": [
      "Enter a number : 20\n",
      "Enter a number : 20\n",
      "The sum of values :  40\n"
     ]
    }
   ],
   "source": [
    "a = int(input(\"Enter a number : \"))\n",
    "b = int(input(\"Enter a number : \"))\n",
    "if a*b > 1000:\n",
    "    print(\"The product of the values : \", a*b)\n",
    "else:\n",
    "    print(\"The sum of values : \", a+b)"
   ]
  },
  {
   "cell_type": "markdown",
   "id": "57195244",
   "metadata": {},
   "source": [
    "#### 8. Give two strings x,y write a program to return a new string made of x and y's first, middle and last characters"
   ]
  },
  {
   "cell_type": "code",
   "execution_count": 30,
   "id": "cfca7463",
   "metadata": {},
   "outputs": [
    {
     "name": "stdout",
     "output_type": "stream",
     "text": [
      "Enter a string : hello\n",
      "Enter a string : world\n"
     ]
    },
    {
     "data": {
      "text/plain": [
       "'hwlrod'"
      ]
     },
     "execution_count": 30,
     "metadata": {},
     "output_type": "execute_result"
    }
   ],
   "source": [
    "x = str(input(\"Enter a string : \"))\n",
    "y = str(input(\"Enter a string : \"))\n",
    "x[0]+y[0]+x[len(x)//2]+y[len(y)//2]+x[len(x)-1]+y[len(y)-1]"
   ]
  },
  {
   "cell_type": "markdown",
   "id": "54004467",
   "metadata": {},
   "source": [
    "#### 9. Write a program to take names as input from a user in single input()"
   ]
  },
  {
   "cell_type": "code",
   "execution_count": 1,
   "id": "4ae95558",
   "metadata": {},
   "outputs": [
    {
     "name": "stdout",
     "output_type": "stream",
     "text": [
      "Enter names separated by commas or spaces: ram,rakhi,sam\n",
      "List of names entered by the user:\n",
      "ram\n",
      "rakhi\n",
      "sam\n"
     ]
    }
   ],
   "source": [
    "input_str = input(\"Enter names separated by commas or spaces: \")\n",
    "names = input_str.split(',')\n",
    "names = [name.strip() for name in names]\n",
    "print(\"List of names entered by the user:\")\n",
    "for name in names:\n",
    "    print(name)"
   ]
  },
  {
   "cell_type": "markdown",
   "id": "d53e233e",
   "metadata": {},
   "source": [
    "#### 10. Write a program to get a string from a given string where all occurrences of its first charachter have been change to '@', except the first itself."
   ]
  },
  {
   "cell_type": "code",
   "execution_count": 2,
   "id": "4803e410",
   "metadata": {},
   "outputs": [
    {
     "data": {
      "text/plain": [
       "'mathe@atics'"
      ]
     },
     "execution_count": 2,
     "metadata": {},
     "output_type": "execute_result"
    }
   ],
   "source": [
    "r = 'mathematics'\n",
    "r[0]+(r[1:]).replace('m',\"@\")"
   ]
  },
  {
   "cell_type": "markdown",
   "id": "91246156",
   "metadata": {},
   "source": [
    "#### 11. Write a program to add 'ing' at the end of a given string (string length should be equal to or more than 3). if the given string already ends with 'ing' then add 'ly' instead. if the length of the given string is less than 3, leave it unchanged. "
   ]
  },
  {
   "cell_type": "code",
   "execution_count": 8,
   "id": "4b96b519",
   "metadata": {},
   "outputs": [],
   "source": [
    "def change(a):\n",
    "    if len(a)<3:\n",
    "        print(a)\n",
    "    elif a.endswith(\"ing\"):\n",
    "        print(a.replace(\"ing\",\"ly\"))\n",
    "    else:\n",
    "        print(a + \"ing\")"
   ]
  },
  {
   "cell_type": "code",
   "execution_count": 10,
   "id": "1158b1e1",
   "metadata": {},
   "outputs": [
    {
     "name": "stdout",
     "output_type": "stream",
     "text": [
      "goly\n"
     ]
    }
   ],
   "source": [
    "change('going')"
   ]
  },
  {
   "cell_type": "code",
   "execution_count": 11,
   "id": "35d8b65a",
   "metadata": {},
   "outputs": [
    {
     "name": "stdout",
     "output_type": "stream",
     "text": [
      "alling\n"
     ]
    }
   ],
   "source": [
    "change(\"all\")"
   ]
  },
  {
   "cell_type": "code",
   "execution_count": 12,
   "id": "173e0af3",
   "metadata": {},
   "outputs": [
    {
     "name": "stdout",
     "output_type": "stream",
     "text": [
      "playly\n"
     ]
    }
   ],
   "source": [
    "change(\"playing\")"
   ]
  },
  {
   "cell_type": "code",
   "execution_count": 13,
   "id": "987e39c5",
   "metadata": {},
   "outputs": [
    {
     "name": "stdout",
     "output_type": "stream",
     "text": [
      "beautifullying\n"
     ]
    }
   ],
   "source": [
    "change(\"beautifully\")"
   ]
  },
  {
   "cell_type": "markdown",
   "id": "61756dd5",
   "metadata": {},
   "source": [
    "#### 12. Write a program that accepts two inputs num1 and num2, print True if one of them is 10 or if their sum is 10 otherwise print False"
   ]
  },
  {
   "cell_type": "code",
   "execution_count": 18,
   "id": "1348a07a",
   "metadata": {},
   "outputs": [
    {
     "name": "stdout",
     "output_type": "stream",
     "text": [
      "Enter a number : 5\n",
      "Enter a number : 5\n",
      "True\n"
     ]
    }
   ],
   "source": [
    "num1= int(input(\"Enter a number : \"))\n",
    "num2 = int(input(\"Enter a number : \"))\n",
    "if num1 == 10 or num2 == 10:\n",
    "    print(True)\n",
    "elif num1 + num2 == 10:\n",
    "    print(True)\n",
    "else:\n",
    "    print(False)"
   ]
  },
  {
   "cell_type": "markdown",
   "id": "f8a7528a",
   "metadata": {},
   "source": [
    "#### 13. Write a program that accepts three inputs x,y,z print True if x*y>z otherwise False"
   ]
  },
  {
   "cell_type": "code",
   "execution_count": 22,
   "id": "e20c55ba",
   "metadata": {},
   "outputs": [
    {
     "name": "stdout",
     "output_type": "stream",
     "text": [
      "Enter a number : 2\n",
      "Enter a number : 5\n",
      "Enter a number : 8\n",
      "True\n"
     ]
    }
   ],
   "source": [
    "x= int(input(\"Enter a number : \"))\n",
    "y = int(input(\"Enter a number : \"))\n",
    "z = int(input(\"Enter a number : \"))\n",
    "if (x*y)>z:\n",
    "    print(True)\n",
    "else:\n",
    "    print(False)"
   ]
  },
  {
   "cell_type": "markdown",
   "id": "91e0829b",
   "metadata": {},
   "source": [
    "#### 14. Write a program that accepts two string inputs return True depending on whether the total number of characters in the first string is equal to the total number of characters in the second string"
   ]
  },
  {
   "cell_type": "code",
   "execution_count": 24,
   "id": "16b28705",
   "metadata": {},
   "outputs": [
    {
     "name": "stdout",
     "output_type": "stream",
     "text": [
      "Enter a string : hello\n",
      "Enter a string : HEllo\n",
      "True\n"
     ]
    }
   ],
   "source": [
    "a = ''\n",
    "x = input(\"Enter a string : \")\n",
    "y = input(\"Enter a string : \")\n",
    "if len(x) == len(y):\n",
    "    print(True)\n",
    "else:\n",
    "    print(False)"
   ]
  },
  {
   "cell_type": "markdown",
   "id": "b5e1a38f",
   "metadata": {},
   "source": [
    "#### 15. Write a program that takes a string input, we'll say that the front is the first three characters of the string. if the string length is less than three characters, the front is whatever is there. Return  a new string , which is three copies of the front"
   ]
  },
  {
   "cell_type": "code",
   "execution_count": 5,
   "id": "2a4e6fe7",
   "metadata": {},
   "outputs": [],
   "source": [
    "def front():\n",
    "    front = input(\"Enter a string : \")\n",
    "    if len(front) < 3:\n",
    "        return(front * 3)\n",
    "    else:\n",
    "        return(front[0:3]*3)"
   ]
  },
  {
   "cell_type": "code",
   "execution_count": 6,
   "id": "11c5b1e6",
   "metadata": {},
   "outputs": [
    {
     "name": "stdout",
     "output_type": "stream",
     "text": [
      "Enter a string : hai\n"
     ]
    },
    {
     "data": {
      "text/plain": [
       "'haihaihai'"
      ]
     },
     "execution_count": 6,
     "metadata": {},
     "output_type": "execute_result"
    }
   ],
   "source": [
    "front()"
   ]
  },
  {
   "cell_type": "code",
   "execution_count": 7,
   "id": "85b1e7f1",
   "metadata": {},
   "outputs": [
    {
     "name": "stdout",
     "output_type": "stream",
     "text": [
      "Enter a string : hello\n"
     ]
    },
    {
     "data": {
      "text/plain": [
       "'helhelhel'"
      ]
     },
     "execution_count": 7,
     "metadata": {},
     "output_type": "execute_result"
    }
   ],
   "source": [
    "front()"
   ]
  },
  {
   "cell_type": "code",
   "execution_count": null,
   "id": "6f2a2808",
   "metadata": {},
   "outputs": [],
   "source": []
  }
 ],
 "metadata": {
  "kernelspec": {
   "display_name": "Python 3 (ipykernel)",
   "language": "python",
   "name": "python3"
  },
  "language_info": {
   "codemirror_mode": {
    "name": "ipython",
    "version": 3
   },
   "file_extension": ".py",
   "mimetype": "text/x-python",
   "name": "python",
   "nbconvert_exporter": "python",
   "pygments_lexer": "ipython3",
   "version": "3.11.3"
  }
 },
 "nbformat": 4,
 "nbformat_minor": 5
}
