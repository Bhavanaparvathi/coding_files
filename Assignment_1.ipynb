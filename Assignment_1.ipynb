{
 "cells": [
  {
   "cell_type": "markdown",
   "id": "ae2b9b23",
   "metadata": {},
   "source": [
    "#### 1. Write a python program to convert a string to lower case"
   ]
  },
  {
   "cell_type": "code",
   "execution_count": 2,
   "id": "aab8ef3b",
   "metadata": {},
   "outputs": [
    {
     "data": {
      "text/plain": [
       "'hello world'"
      ]
     },
     "execution_count": 2,
     "metadata": {},
     "output_type": "execute_result"
    }
   ],
   "source": [
    "a = \"HELLO WORLD\"\n",
    "a.lower()"
   ]
  },
  {
   "cell_type": "markdown",
   "id": "de71c081",
   "metadata": {},
   "source": [
    "#### 2.Write a python program to convert only odd indexed character to lower case"
   ]
  },
  {
   "cell_type": "code",
   "execution_count": 21,
   "id": "50db0a9e",
   "metadata": {},
   "outputs": [
    {
     "name": "stdout",
     "output_type": "stream",
     "text": [
      "PyThOn\n"
     ]
    }
   ],
   "source": [
    "b = \"PYTHON\"\n",
    "c = \"\"\n",
    "for index, i in enumerate(b):\n",
    "    if index %2 != 0:\n",
    "        c += i.lower()\n",
    "    else:\n",
    "        c += i\n",
    "print(c)"
   ]
  },
  {
   "cell_type": "markdown",
   "id": "cce5f955",
   "metadata": {},
   "source": [
    "#### 3.Write a python program to convert only even indexed character to lower case¶"
   ]
  },
  {
   "cell_type": "code",
   "execution_count": 23,
   "id": "e08adfe7",
   "metadata": {},
   "outputs": [
    {
     "name": "stdout",
     "output_type": "stream",
     "text": [
      "pYtHoN\n"
     ]
    }
   ],
   "source": [
    "b = \"PYTHON\"\n",
    "c = \"\"\n",
    "for index,i in enumerate(b):\n",
    "    if index %2 == 0:\n",
    "        c += i.lower()\n",
    "    else:\n",
    "        c += i\n",
    "print(c)"
   ]
  },
  {
   "cell_type": "markdown",
   "id": "f7fe39f0",
   "metadata": {},
   "source": [
    "#### 4.Write a python program to convert only odd indexed character to upper case"
   ]
  },
  {
   "cell_type": "code",
   "execution_count": 24,
   "id": "8b53007a",
   "metadata": {},
   "outputs": [
    {
     "name": "stdout",
     "output_type": "stream",
     "text": [
      "pYtHoN\n"
     ]
    }
   ],
   "source": [
    "b = \"python\"\n",
    "c = \"\"\n",
    "for index, i in enumerate(b):\n",
    "    if index %2 != 0:\n",
    "        c += i.upper()\n",
    "    else:\n",
    "        c += i\n",
    "print(c)"
   ]
  },
  {
   "cell_type": "markdown",
   "id": "3df30e7f",
   "metadata": {},
   "source": [
    "#### 5.Write a python program to convert only even indexed character to upper case"
   ]
  },
  {
   "cell_type": "code",
   "execution_count": 25,
   "id": "fc0e1f55",
   "metadata": {},
   "outputs": [
    {
     "name": "stdout",
     "output_type": "stream",
     "text": [
      "PyThOn\n"
     ]
    }
   ],
   "source": [
    "b = \"python\"\n",
    "c = \"\"\n",
    "for index, i in enumerate(b):\n",
    "    if index %2 == 0:\n",
    "        c += i.upper()\n",
    "    else:\n",
    "        c += i\n",
    "print(c)"
   ]
  },
  {
   "cell_type": "markdown",
   "id": "98ddd8d0",
   "metadata": {},
   "source": [
    "#### 6.Write a python program to where you have different variables which contain name, age, phone.no, father's name, mother's name and by using this variable create a variable named biodata where you will use all these variables"
   ]
  },
  {
   "cell_type": "code",
   "execution_count": 2,
   "id": "76ea838d",
   "metadata": {},
   "outputs": [
    {
     "name": "stdout",
     "output_type": "stream",
     "text": [
      "Enter your name : Bhavana\n",
      "Enter your age : 23\n",
      "Enter your phone_no : 8956741236\n",
      "Enter your father name : Ramulu\n",
      "Enter your mother name: Anitha\n",
      "My name is Bhavana, iam 23 years old, my phone number is 8956741236, My father name is Ramulu and My mother name is Anitha\n"
     ]
    }
   ],
   "source": [
    "Name = input(\"Enter your name : \")\n",
    "Age = int(input(\"Enter your age : \"))\n",
    "phone_no = int(input(\"Enter your phone_no : \"))\n",
    "father_s_name = input(\"Enter your father name : \")\n",
    "mother_s_name = input(\"Enter your mother name: \")\n",
    "biodata = print(f\"My name is {Name}, iam {Age} years old, my phone number is {phone_no}, My father name is {father_s_name} and My mother name is {mother_s_name}\")"
   ]
  },
  {
   "cell_type": "markdown",
   "id": "a576b032",
   "metadata": {},
   "source": [
    "#### 7.Write a program to convert how many times \"@\" occured"
   ]
  },
  {
   "cell_type": "code",
   "execution_count": 3,
   "id": "6b81b694",
   "metadata": {},
   "outputs": [
    {
     "data": {
      "text/plain": [
       "16"
      ]
     },
     "execution_count": 3,
     "metadata": {},
     "output_type": "execute_result"
    }
   ],
   "source": [
    "a = \"@@@@@@@@@hey@@@@@@@\"\n",
    "a.count(\"@\")"
   ]
  },
  {
   "cell_type": "markdown",
   "id": "163127fd",
   "metadata": {},
   "source": [
    "#### 8.Write a python program to get only names from the string"
   ]
  },
  {
   "cell_type": "code",
   "execution_count": 10,
   "id": "f145c15c",
   "metadata": {},
   "outputs": [
    {
     "data": {
      "text/plain": [
       "('geta', 'seta', 'rekha')"
      ]
     },
     "execution_count": 10,
     "metadata": {},
     "output_type": "execute_result"
    }
   ],
   "source": [
    "x = \"geta.@gmail.com,seta.@gmail.com, rekha.@gmail.com\"\n",
    "x[0:4],x[16:20],x[33:38]"
   ]
  },
  {
   "cell_type": "markdown",
   "id": "e95ad546",
   "metadata": {},
   "source": [
    "#### 9.String of odd length greater than 9,return a new string made of the middle three characters"
   ]
  },
  {
   "cell_type": "code",
   "execution_count": 11,
   "id": "22867e07",
   "metadata": {},
   "outputs": [
    {
     "data": {
      "text/plain": [
       "'mei'"
      ]
     },
     "execution_count": 11,
     "metadata": {},
     "output_type": "execute_result"
    }
   ],
   "source": [
    "name = \"mynameissan\"\n",
    "name[4:7]"
   ]
  },
  {
   "cell_type": "markdown",
   "id": "40d52b4a",
   "metadata": {},
   "source": [
    "#### 10.write a python program to insert 2 string in middle of a string"
   ]
  },
  {
   "cell_type": "code",
   "execution_count": 14,
   "id": "a0e8d585",
   "metadata": {},
   "outputs": [
    {
     "data": {
      "text/plain": [
       "'mysan'"
      ]
     },
     "execution_count": 14,
     "metadata": {},
     "output_type": "execute_result"
    }
   ],
   "source": [
    "n1 = \"myn\"\n",
    "n2 = \"sa\"\n",
    "n1[0:2]+n2+n1[2:3]"
   ]
  },
  {
   "cell_type": "markdown",
   "id": "147a2f64",
   "metadata": {},
   "source": [
    "#### 11.Write a program to remove vowels from the entire alphabets"
   ]
  },
  {
   "cell_type": "code",
   "execution_count": 18,
   "id": "97418217",
   "metadata": {},
   "outputs": [
    {
     "name": "stdout",
     "output_type": "stream",
     "text": [
      "bcdfghjklmnpqrstvwxyz\n"
     ]
    }
   ],
   "source": [
    "a = \"abcdefghijklmnopqrstuvwxyz\"\n",
    "vowels = [\"a\",\"e\",\"i\",\"o\",\"u\"]\n",
    "c = \"\"\n",
    "for i in a:\n",
    "    if i not in vowels:\n",
    "        c += i\n",
    "print(c)"
   ]
  },
  {
   "cell_type": "code",
   "execution_count": null,
   "id": "039673aa",
   "metadata": {},
   "outputs": [],
   "source": []
  }
 ],
 "metadata": {
  "kernelspec": {
   "display_name": "Python 3 (ipykernel)",
   "language": "python",
   "name": "python3"
  },
  "language_info": {
   "codemirror_mode": {
    "name": "ipython",
    "version": 3
   },
   "file_extension": ".py",
   "mimetype": "text/x-python",
   "name": "python",
   "nbconvert_exporter": "python",
   "pygments_lexer": "ipython3",
   "version": "3.11.3"
  }
 },
 "nbformat": 4,
 "nbformat_minor": 5
}
