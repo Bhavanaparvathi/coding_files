{
 "cells": [
  {
   "cell_type": "markdown",
   "id": "086b8fd2",
   "metadata": {},
   "source": [
    "#### 1. Write a program to create a 5 dimentional array with all zeros and ones."
   ]
  },
  {
   "cell_type": "code",
   "execution_count": 1,
   "id": "f2ae7e81",
   "metadata": {},
   "outputs": [],
   "source": [
    "import numpy as np"
   ]
  },
  {
   "cell_type": "code",
   "execution_count": 13,
   "id": "06ce7da6",
   "metadata": {},
   "outputs": [
    {
     "data": {
      "text/plain": [
       "array([[[[[0., 0., 0., 0.],\n",
       "          [0., 0., 0., 0.],\n",
       "          [0., 0., 0., 0.],\n",
       "          [0., 0., 0., 0.],\n",
       "          [0., 0., 0., 0.]]]]])"
      ]
     },
     "execution_count": 13,
     "metadata": {},
     "output_type": "execute_result"
    }
   ],
   "source": [
    "np.zeros((1,1,1,5,4))"
   ]
  },
  {
   "cell_type": "code",
   "execution_count": 14,
   "id": "7396dee5",
   "metadata": {},
   "outputs": [
    {
     "data": {
      "text/plain": [
       "array([[[[[1., 1., 1., 1.],\n",
       "          [1., 1., 1., 1.],\n",
       "          [1., 1., 1., 1.],\n",
       "          [1., 1., 1., 1.],\n",
       "          [1., 1., 1., 1.]]]]])"
      ]
     },
     "execution_count": 14,
     "metadata": {},
     "output_type": "execute_result"
    }
   ],
   "source": [
    "np.ones((1,1,1,5,4))"
   ]
  },
  {
   "cell_type": "markdown",
   "id": "dcb34937",
   "metadata": {},
   "source": [
    "#### 2. Write a program to create an array of 10 zeros, 10 ones, 10 fives in row 1,2,3. which create a new array of shape(3,10) "
   ]
  },
  {
   "cell_type": "code",
   "execution_count": 15,
   "id": "b1a65e5b",
   "metadata": {},
   "outputs": [
    {
     "name": "stdout",
     "output_type": "stream",
     "text": [
      "shape of array :  (3, 10)\n"
     ]
    },
    {
     "data": {
      "text/plain": [
       "(array([0, 0, 0, 0, 0, 0, 0, 0, 0, 0]),\n",
       " array([1, 1, 1, 1, 1, 1, 1, 1, 1, 1]),\n",
       " array([5, 5, 5, 5, 5, 5, 5, 5, 5, 5]))"
      ]
     },
     "execution_count": 15,
     "metadata": {},
     "output_type": "execute_result"
    }
   ],
   "source": [
    "a = np.zeros(10,dtype=int),np.ones(10,dtype=int),np.full(10,5)\n",
    "print(\"shape of array : \",np.shape(a))\n",
    "a"
   ]
  },
  {
   "cell_type": "markdown",
   "id": "8f27e571",
   "metadata": {},
   "source": [
    "#### 3. Write a program to create a 3x4 matric filled with values from 10 to 21 "
   ]
  },
  {
   "cell_type": "code",
   "execution_count": 17,
   "id": "2731db32",
   "metadata": {},
   "outputs": [
    {
     "data": {
      "text/plain": [
       "array([[10, 11, 12, 13],\n",
       "       [14, 15, 16, 17],\n",
       "       [18, 19, 20, 21]])"
      ]
     },
     "execution_count": 17,
     "metadata": {},
     "output_type": "execute_result"
    }
   ],
   "source": [
    "np.arange(10,22).reshape(3,4)"
   ]
  },
  {
   "cell_type": "markdown",
   "id": "b0707734",
   "metadata": {},
   "source": [
    "#### 4. Write a program to create a 10x10 zero matrix with elements on the main diagonal equal to 0,1,2,3,4,5,6,7,8,9"
   ]
  },
  {
   "cell_type": "code",
   "execution_count": 20,
   "id": "c8cd3bbe",
   "metadata": {},
   "outputs": [
    {
     "data": {
      "text/plain": [
       "array([[1, 0, 0, 0, 0, 0, 0, 0, 0],\n",
       "       [0, 2, 0, 0, 0, 0, 0, 0, 0],\n",
       "       [0, 0, 3, 0, 0, 0, 0, 0, 0],\n",
       "       [0, 0, 0, 4, 0, 0, 0, 0, 0],\n",
       "       [0, 0, 0, 0, 5, 0, 0, 0, 0],\n",
       "       [0, 0, 0, 0, 0, 6, 0, 0, 0],\n",
       "       [0, 0, 0, 0, 0, 0, 7, 0, 0],\n",
       "       [0, 0, 0, 0, 0, 0, 0, 8, 0],\n",
       "       [0, 0, 0, 0, 0, 0, 0, 0, 9]])"
      ]
     },
     "execution_count": 20,
     "metadata": {},
     "output_type": "execute_result"
    }
   ],
   "source": [
    "np.diag(np.arange(1,10))"
   ]
  },
  {
   "cell_type": "markdown",
   "id": "b7eeb995",
   "metadata": {},
   "source": [
    "#### 5. Write a program to create 4x4 array.Create an array from below array by swaping first and last,second and third colums."
   ]
  },
  {
   "cell_type": "code",
   "execution_count": 37,
   "id": "878476df",
   "metadata": {},
   "outputs": [
    {
     "name": "stdout",
     "output_type": "stream",
     "text": [
      "[[ 1  2  3  4]\n",
      " [ 5  6  7  8]\n",
      " [ 9 10 11 12]\n",
      " [13 14 15 16]]\n"
     ]
    },
    {
     "data": {
      "text/plain": [
       "array([[ 4,  3,  2,  1],\n",
       "       [ 8,  7,  6,  5],\n",
       "       [12, 11, 10,  9],\n",
       "       [16, 15, 14, 13]])"
      ]
     },
     "execution_count": 37,
     "metadata": {},
     "output_type": "execute_result"
    }
   ],
   "source": [
    "a = np.array([np.arange(1,17)]).reshape(4,4)\n",
    "print(a)\n",
    "a[:,::-1]"
   ]
  },
  {
   "cell_type": "markdown",
   "id": "bea87707",
   "metadata": {},
   "source": [
    "#### 6. Write a program to reverse an array (the first element becomes the last).Given array:[12,13,14,15,16,17,18,19,20,21,22,23,24,25,26,27]"
   ]
  },
  {
   "cell_type": "code",
   "execution_count": 39,
   "id": "5d0f1753",
   "metadata": {},
   "outputs": [
    {
     "data": {
      "text/plain": [
       "array([27, 26, 25, 24, 23, 22, 21, 20, 19, 18, 17, 16, 15, 14, 13, 12])"
      ]
     },
     "execution_count": 39,
     "metadata": {},
     "output_type": "execute_result"
    }
   ],
   "source": [
    "a = np.array([12,13,14,15,16,17,18,19,20,21,22,23,24,25,26,27])\n",
    "a[::-1]"
   ]
  },
  {
   "cell_type": "markdown",
   "id": "7590d7c2",
   "metadata": {},
   "source": [
    "#### 7. Write a program to access all the elements greater than 30 and less than 80 and multiples of 5 from an array of shape 10,10. Elements range from 1 to 100"
   ]
  },
  {
   "cell_type": "code",
   "execution_count": 44,
   "id": "6b17fa85",
   "metadata": {},
   "outputs": [
    {
     "data": {
      "text/plain": [
       "array([35, 40, 45, 50, 55, 60, 65, 70, 75])"
      ]
     },
     "execution_count": 44,
     "metadata": {},
     "output_type": "execute_result"
    }
   ],
   "source": [
    "a = np.arange(1,101).reshape(10,10)\n",
    "a[(a>30) & (a<80) & (a%5 == 0)]"
   ]
  },
  {
   "cell_type": "markdown",
   "id": "7b54245f",
   "metadata": {},
   "source": [
    "#### 8. Write a program to create a 2D array with 1 on the border and 0 inside."
   ]
  },
  {
   "cell_type": "code",
   "execution_count": 53,
   "id": "a4913228",
   "metadata": {},
   "outputs": [
    {
     "data": {
      "text/plain": [
       "array([[1, 1, 1, 1, 1],\n",
       "       [1, 0, 0, 0, 1],\n",
       "       [1, 0, 0, 0, 1],\n",
       "       [1, 0, 0, 0, 1],\n",
       "       [1, 1, 1, 1, 1]])"
      ]
     },
     "execution_count": 53,
     "metadata": {},
     "output_type": "execute_result"
    }
   ],
   "source": [
    "a= np.ones((5,5),dtype = int)\n",
    "a[1:-1,1:-1]=0\n",
    "a"
   ]
  },
  {
   "cell_type": "markdown",
   "id": "83b38004",
   "metadata": {},
   "source": [
    "#### 9. Write a program to create a checkerboard pattern.Don't use default array function"
   ]
  },
  {
   "cell_type": "code",
   "execution_count": 58,
   "id": "ea81da16",
   "metadata": {},
   "outputs": [
    {
     "data": {
      "text/plain": [
       "array([[0, 1, 0, 1, 0, 1, 0, 1],\n",
       "       [1, 1, 1, 1, 1, 1, 1, 1],\n",
       "       [0, 1, 0, 1, 0, 1, 0, 1],\n",
       "       [1, 1, 1, 1, 1, 1, 1, 1],\n",
       "       [0, 1, 0, 1, 0, 1, 0, 1],\n",
       "       [1, 1, 1, 1, 1, 1, 1, 1],\n",
       "       [0, 1, 0, 1, 0, 1, 0, 1],\n",
       "       [1, 1, 1, 1, 1, 1, 1, 1]])"
      ]
     },
     "execution_count": 58,
     "metadata": {},
     "output_type": "execute_result"
    }
   ],
   "source": [
    "a = np.ones((8,8), dtype=int)\n",
    "for i in range(len(a)):\n",
    "    if i % 2 == 0:\n",
    "        (a[i])[::2]=0\n",
    "    else:\n",
    "        (a[i])[1::2]\n",
    "a"
   ]
  },
  {
   "cell_type": "markdown",
   "id": "778fb356",
   "metadata": {},
   "source": [
    "#### 10. Write a program to find common values between two arrays"
   ]
  },
  {
   "cell_type": "code",
   "execution_count": 59,
   "id": "ed58a5f4",
   "metadata": {},
   "outputs": [
    {
     "data": {
      "text/plain": [
       "array([30, 40, 50])"
      ]
     },
     "execution_count": 59,
     "metadata": {},
     "output_type": "execute_result"
    }
   ],
   "source": [
    "a = np.array([10,20,30,40,50])\n",
    "b = np.array([70,60,30,40,50])\n",
    "np.intersect1d(a,b)"
   ]
  },
  {
   "cell_type": "markdown",
   "id": "f29ce991",
   "metadata": {},
   "source": [
    "#### 11. Write a program to create an 2D array then reshape to 1D array"
   ]
  },
  {
   "cell_type": "code",
   "execution_count": 79,
   "id": "405d1c67",
   "metadata": {},
   "outputs": [
    {
     "data": {
      "text/plain": [
       "array([[ 1,  2,  3,  4],\n",
       "       [ 5,  6,  7,  8],\n",
       "       [ 9, 10, 11, 12],\n",
       "       [13, 14, 15, 16]])"
      ]
     },
     "execution_count": 79,
     "metadata": {},
     "output_type": "execute_result"
    }
   ],
   "source": [
    "a = np.arange(1,17).reshape(4,4)\n",
    "a"
   ]
  },
  {
   "cell_type": "code",
   "execution_count": 74,
   "id": "eb8e0d05",
   "metadata": {},
   "outputs": [
    {
     "data": {
      "text/plain": [
       "array([ 1,  2,  3,  4,  5,  6,  7,  8,  9, 10, 11, 12, 13, 14, 15, 16])"
      ]
     },
     "execution_count": 74,
     "metadata": {},
     "output_type": "execute_result"
    }
   ],
   "source": [
    "#method_1\n",
    "a.flatten()"
   ]
  },
  {
   "cell_type": "code",
   "execution_count": 75,
   "id": "c0eca834",
   "metadata": {},
   "outputs": [
    {
     "data": {
      "text/plain": [
       "array([ 1,  2,  3,  4,  5,  6,  7,  8,  9, 10, 11, 12, 13, 14, 15, 16])"
      ]
     },
     "execution_count": 75,
     "metadata": {},
     "output_type": "execute_result"
    }
   ],
   "source": [
    "#method_2\n",
    "a.ravel()"
   ]
  },
  {
   "cell_type": "code",
   "execution_count": 86,
   "id": "dd65c5b2",
   "metadata": {},
   "outputs": [
    {
     "data": {
      "text/plain": [
       "array([ 1,  2,  3,  4,  5,  6,  7,  8,  9, 10, 11, 12, 13, 14, 15, 16])"
      ]
     },
     "execution_count": 86,
     "metadata": {},
     "output_type": "execute_result"
    }
   ],
   "source": [
    "#method_3\n",
    "a.reshape(16)"
   ]
  },
  {
   "cell_type": "code",
   "execution_count": 87,
   "id": "0fda8102",
   "metadata": {},
   "outputs": [
    {
     "data": {
      "text/plain": [
       "array([ 1,  2,  3,  4,  5,  6,  7,  8,  9, 10, 11, 12, 13, 14, 15, 16])"
      ]
     },
     "execution_count": 87,
     "metadata": {},
     "output_type": "execute_result"
    }
   ],
   "source": [
    "#method_4\n",
    "a.reshape(16,)"
   ]
  },
  {
   "cell_type": "markdown",
   "id": "ccd1627e",
   "metadata": {},
   "source": [
    "#### 12. Write a user defined function for creating 1D or 2D without using array functions"
   ]
  },
  {
   "cell_type": "code",
   "execution_count": 1,
   "id": "9be07ba0",
   "metadata": {},
   "outputs": [],
   "source": [
    "def array():\n",
    "    array = int(input(\"Enter 1D or 2D array :  \"))\n",
    "    if array ==2:\n",
    "        function = (input(\"Enter number : \"))\n",
    "        function = \" \"+function\n",
    "        a = int(input(\"Enter number of rows : \"))\n",
    "        b = int(input(\"Enter number of colums : \"))\n",
    "        if b == 0:\n",
    "            print(a*function)\n",
    "        else:\n",
    "            print(\"array\")\n",
    "            for i in range(a):\n",
    "                print(b*function)\n",
    "            \n",
    "    elif array == 1:\n",
    "        function = (input(\"Enter number : \"))\n",
    "        function = \" \"+function\n",
    "        a = int(input(\"Enter number of elements: \"))\n",
    "        print(\"array\")\n",
    "        return(a*function)\n",
    "    else:\n",
    "        print(\"Please Enter valid input\")"
   ]
  },
  {
   "cell_type": "code",
   "execution_count": 4,
   "id": "1efed8a8",
   "metadata": {},
   "outputs": [
    {
     "name": "stdout",
     "output_type": "stream",
     "text": [
      "Enter 1D or 2D array :  2\n",
      "Enter number : 16\n",
      "Enter number of rows : 4\n",
      "Enter number of colums : 4\n",
      "array\n",
      " 16 16 16 16\n",
      " 16 16 16 16\n",
      " 16 16 16 16\n",
      " 16 16 16 16\n"
     ]
    }
   ],
   "source": [
    "array()"
   ]
  },
  {
   "cell_type": "code",
   "execution_count": 2,
   "id": "067b04b3",
   "metadata": {},
   "outputs": [
    {
     "name": "stdout",
     "output_type": "stream",
     "text": [
      "Enter 1D or 2D array :  1\n",
      "Enter number : 1\n",
      "Enter number of elements: 8\n",
      "array\n"
     ]
    },
    {
     "data": {
      "text/plain": [
       "' 1 1 1 1 1 1 1 1'"
      ]
     },
     "execution_count": 2,
     "metadata": {},
     "output_type": "execute_result"
    }
   ],
   "source": [
    "array()"
   ]
  },
  {
   "cell_type": "code",
   "execution_count": null,
   "id": "11418e79",
   "metadata": {},
   "outputs": [],
   "source": []
  }
 ],
 "metadata": {
  "kernelspec": {
   "display_name": "Python 3 (ipykernel)",
   "language": "python",
   "name": "python3"
  },
  "language_info": {
   "codemirror_mode": {
    "name": "ipython",
    "version": 3
   },
   "file_extension": ".py",
   "mimetype": "text/x-python",
   "name": "python",
   "nbconvert_exporter": "python",
   "pygments_lexer": "ipython3",
   "version": "3.11.3"
  }
 },
 "nbformat": 4,
 "nbformat_minor": 5
}
